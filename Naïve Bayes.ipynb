{
 "cells": [
  {
   "cell_type": "code",
   "execution_count": 1,
   "metadata": {},
   "outputs": [],
   "source": [
    "import numpy as np\n",
    "spam=[ \"সে ভাল না\",\n",
    "      \"সে খুব খারাপ মানুষ\",\n",
    "      \"আমি খারাপ আছি\",\n",
    "      \"রোবট খারাপ\"\n",
    "     \"রোবট খারাপ গান করে\",\n",
    "     \"সে স্কুলে পড়া পারে না \",\n",
    "     \"স্যারের হাসি সুন্দর না\",\n",
    "     \"আমাদের ডিপার্ট্মেন্ট খারাপ\",\n",
    "     \"সে স্কুল যায় না \",\n",
    "     \"আমি রোবট পছন্দ করি না\",\n",
    "     \"তারা খারাপ  বন্ধু\",\n",
    "     \"সে খারাপ ছাত্র\",\n",
    "     \"স্যার রোবট ভালোবাসেন না\",\n",
    "     \"সে খারাপ গান গায়\",\n",
    "     \"কেউ তাদের পছন্দ করে না\",\n",
    "     \"আমি ভ্রমণ পছন্দ করি না \",\n",
    "     \"ভ্রমণ করা খুব খারাপ\",\n",
    "     \"আমরা কেউ ভ্রমণে যাই না\",\n",
    "     \"আমি তাকে পছন্দ করি না\",\n",
    "     \"সে আমাকে মেরেছে\",\n",
    "     \"আমরা খেলায় যাই না\"\n",
    "     \"আমাদের ডিপার্ট্মেন্ট খেলায় খুব খারাপ \",\n",
    "     \"রোবট নিজে নিজে কথা বলতে পারে না\",\n",
    "     \"রোবট তৈরি করা খারাপ\",\n",
    "     \"সেদিন ক্লাস হয় নাই\",\n",
    "     \"আমরা কেউ ভ্রমণে যাই না\",\n",
    "     \"আমি তাকে পছন্দ করি না\",\n",
    "     \"সে আমাকে মেরেছে\",\n",
    "     \"ক্লাসে কেউ নাই\",\n",
    "     \"বাংলাদেশ সুন্দর না\",\n",
    "     \"আমি দেশকে ভালোবাসি না\",\n",
    "     \"দেশ সকল খারাপ\",\n",
    "     \"দেশ মায়ের সমান না\",\n",
    "     \"কাউকে সম্মান করবো না\",\n",
    "     \"তারা সবাই খুব খারাপ\",\n",
    "     \"ঈদে বাড়ি যাব না\",\n",
    "     \"পাখি দেখতে সুন্দর না\",\n",
    "     \"পাখি গান গায় না\",\n",
    "     \"পাখি কথা বলে না\",\n",
    "     \"আমি পাখি পছন্দ করি না\",\n",
    "     \"পাখি আকাশে উড়তে পারে না\",\n",
    "     \"পাখির বাচ্চা দেখতে খুব সুন্দর না\",\n",
    "     \"স্যারের রোবট খারাপ কথা বলতে পারে\",\n",
    "     \"তারা ছবি দেখতে পছন্দ করে না\",\n",
    "     \"আমরা সবাই ছবি দেখি না\",\n",
    "     \"ছবিটি অনেক খারাপ\",\n",
    "     \"আমরা ঈদে বাড়ি যাবো না\",\n",
    "     \"করিম বাড়ি যাবে না\",\n",
    "     \"করিম গান শুনতে পছন্দ করে না\",\n",
    "     \"আজকে আমরা হারবো\",\n",
    "     \"সে আজকে আসবে না\",\n",
    "     \"আমরা পারবো খারাপ রোবট তৈরি করতে\"]\n"
   ]
  },
  {
   "cell_type": "code",
   "execution_count": 2,
   "metadata": {},
   "outputs": [],
   "source": [
    "ham=[\"আমি ভালো আছি\",\n",
    "     \"আমি যাচ্ছি সেখানে\",\n",
    "     \"সকল শিক্ষক খুব ভালো\",\n",
    "     \"রোবট কথা বলে\",\n",
    "     \"রোবট খুব ভালো\",\n",
    "     \"রোবট গান করে\",\n",
    "     \"সে স্কুলে পড়া পারে\",\n",
    "     \"স্যারের হাসি খুব সুন্দর\",\n",
    "     \"আমাদের ডিপার্ট্মেন্ট ভালো\",\n",
    "     \"সে স্কুল যায়\",\n",
    "     \"আমি রোবট পছন্দ করি\",\n",
    "     \"তারা ভালো বন্ধু\",\n",
    "     \"সে ভালো ছাত্র\",\n",
    "     \"স্যার রোবট ভালোবাসেন\",\n",
    "     \"সে গান গায়\",\n",
    "     \"সবাই তাদের পছন্দ করে\",\n",
    "     \"আমি ভ্রমণ পছন্দ করি\",\n",
    "     \"ভ্রমণ করা খুব আনন্দের\",\n",
    "     \"আমরা সবাই ভ্রমণে যাই\",\n",
    "     \"আমি তাকে খুব পছন্দ করি\",\n",
    "     \"সে আমাকে জানে ভালো করে\",\n",
    "     \"আমরা খেলায় যাই\"\n",
    "     \"আমাদের ডিপার্ট্মেন্ট খেলায় খুব ভালো\",\n",
    "     \"রোবট নিজে নিজে কথা বলতে পারে\",\n",
    "     \"রোবট তৈরি করা সহজ\",\n",
    "     \"সেদিন ক্লাস হয়েছে\",\n",
    "     \"ক্লাসে সবাই আছে\",\n",
    "     \"বাংলাদেশ সুন্দর\",\n",
    "     \"বাংলাদেশ সুন্দর\",\n",
    "     \"আমি দেশকে ভালোবাসি\",\n",
    "     \"দেশ সকলের মা\",\n",
    "     \"দেশ মায়ের সমান\",\n",
    "     \"সবাই কে সম্মান করবো\",\n",
    "     \"তারা সবাই খুব ভালো\",\n",
    "     \"ঈদে বাড়ি যাবো\",\n",
    "     \"পাখি দেখতে সুন্দর\",\n",
    "     \"পাখি গান গায়\",\n",
    "     \"পাখি কথা বলে\",\n",
    "     \"আমি পাখি পছন্দ করি\",\n",
    "     \"পাখি আকাশে উড়তে পারে\",\n",
    "     \"পাখির বাচ্চা দেখতে খুব সুন্দর\",\n",
    "     \"স্যারের রোবট কথা বলতে পারে\",\n",
    "     \"তারা ছবি দেখতে পছন্দ করে\",\n",
    "     \"আমরা সবাই ছবি দেখি\",\n",
    "     \"ছবিটি অনেক সুন্দর\",\n",
    "     \"আমরা ঈদে বাড়ি যাবো\",\n",
    "     \"করিম বাড়ি যাবে\",\n",
    "     \"করিম গান শুনতে পছন্দ করে\",\n",
    "     \"আজ আমরা জিতব \",\n",
    "     \"সে আজকে আসবে \",\n",
    "     \"আমরা পারবো রোবট তৈরি করতে\"]"
   ]
  },
  {
   "cell_type": "code",
   "execution_count": 3,
   "metadata": {},
   "outputs": [
    {
     "name": "stdout",
     "output_type": "stream",
     "text": [
      "50 50 100\n"
     ]
    }
   ],
   "source": [
    "\n",
    "n1=len(spam)\n",
    "n2=len(ham)\n",
    "n3=n1+n2\n",
    "print(n1,n2,n3)"
   ]
  },
  {
   "cell_type": "code",
   "execution_count": 4,
   "metadata": {},
   "outputs": [],
   "source": [
    "def count(v):\n",
    "    nw=0\n",
    "    for i in range(len(v)):\n",
    "        x=v[i].split(' ')\n",
    "        nw+=len(x)\n",
    "    return nw"
   ]
  },
  {
   "cell_type": "code",
   "execution_count": 5,
   "metadata": {},
   "outputs": [
    {
     "name": "stdout",
     "output_type": "stream",
     "text": [
      "223\n",
      "186\n",
      "409\n"
     ]
    }
   ],
   "source": [
    "now_sp=count(spam)\n",
    "print(now_sp)\n",
    "now_hm=count(ham)\n",
    "print(now_hm)\n",
    "total_word=now_sp+now_hm\n",
    "print(total_word)"
   ]
  },
  {
   "cell_type": "code",
   "execution_count": 6,
   "metadata": {},
   "outputs": [
    {
     "name": "stdout",
     "output_type": "stream",
     "text": [
      "0.5 0.5\n"
     ]
    }
   ],
   "source": [
    "pos=n1/n3\n",
    "poh=n2/n3\n",
    "print(pos,poh)"
   ]
  },
  {
   "cell_type": "code",
   "execution_count": 7,
   "metadata": {},
   "outputs": [],
   "source": [
    "def ws(w,soh,now):\n",
    "    c=1\n",
    "    for i in range(len(soh)):\n",
    "        x=soh[i].split(' ')\n",
    "        for j in range(len(x)):\n",
    "            if w== x[j]:\n",
    "                c+=1\n",
    "    pov=c/now\n",
    "    return(pov,c)"
   ]
  },
  {
   "cell_type": "code",
   "execution_count": 8,
   "metadata": {},
   "outputs": [
    {
     "name": "stdout",
     "output_type": "stream",
     "text": [
      "[0.004484304932735426, 0.008968609865470852, 0.02242152466367713]\n",
      "[0.010752688172043012, 0.010752688172043012, 0.03763440860215054]\n",
      "[2, 3, 11]\n"
     ]
    }
   ],
   "source": [
    "w='আজ অনেক সুন্দর'\n",
    "#w=input(\"Enter a string :\")\n",
    "w2=w.split(\" \")\n",
    "ps=[]\n",
    "ph=[]\n",
    "tw=[]\n",
    "for i in range(len(w2)):\n",
    "    c1=-1\n",
    "    t=w2[i]\n",
    "    s,c=ws(t,spam,now_sp)\n",
    "    ps.append(s)\n",
    "    c1+=c\n",
    "    h,c=ws(t,ham,now_hm)\n",
    "    ph.append(h)\n",
    "    c1+=c\n",
    "    tw.append(c1)\n",
    "print(ps)\n",
    "print(ph)\n",
    "print(tw)"
   ]
  },
  {
   "cell_type": "code",
   "execution_count": 9,
   "metadata": {},
   "outputs": [
    {
     "name": "stdout",
     "output_type": "stream",
     "text": [
      "[0.004889975550122249, 0.007334963325183374, 0.02689486552567237]\n"
     ]
    }
   ],
   "source": [
    "tp=[]\n",
    "for i in range(len(w2)):\n",
    "    t=tw[i]/total_word\n",
    "    tp.append(t)\n",
    "print(tp)"
   ]
  },
  {
   "cell_type": "code",
   "execution_count": 10,
   "metadata": {},
   "outputs": [],
   "source": [
    "ps1=np.array(ps)\n",
    "ph1=np.array(ph)\n",
    "tp1=np.array(tp)"
   ]
  },
  {
   "cell_type": "code",
   "execution_count": 11,
   "metadata": {},
   "outputs": [
    {
     "name": "stdout",
     "output_type": "stream",
     "text": [
      "The Word is in Ham\n",
      "100 %\n"
     ]
    }
   ],
   "source": [
    "wsp=(np.prod(ps1)*pos)/np.prod(tp1)\n",
    "whp=(np.prod(ph1)*poh)/np.prod(tp1)\n",
    "if wsp>whp:\n",
    "    print(\"The Word is in Spam\")\n",
    "    if wsp>1:\n",
    "        wsp=1\n",
    "    print(wsp*100,'%')\n",
    "else:\n",
    "    print(\"The Word is in Ham\")\n",
    "    if whp>1:\n",
    "        whp=1\n",
    "    print(whp*100,'%')\n",
    "\n",
    "#print(wsp)\n",
    "#print(whp)"
   ]
  },
  {
   "cell_type": "code",
   "execution_count": null,
   "metadata": {},
   "outputs": [],
   "source": []
  },
  {
   "cell_type": "code",
   "execution_count": null,
   "metadata": {},
   "outputs": [],
   "source": []
  },
  {
   "cell_type": "code",
   "execution_count": null,
   "metadata": {},
   "outputs": [],
   "source": []
  }
 ],
 "metadata": {
  "kernelspec": {
   "display_name": "Python 3",
   "language": "python",
   "name": "python3"
  },
  "language_info": {
   "codemirror_mode": {
    "name": "ipython",
    "version": 3
   },
   "file_extension": ".py",
   "mimetype": "text/x-python",
   "name": "python",
   "nbconvert_exporter": "python",
   "pygments_lexer": "ipython3",
   "version": "3.7.3"
  }
 },
 "nbformat": 4,
 "nbformat_minor": 2
}
