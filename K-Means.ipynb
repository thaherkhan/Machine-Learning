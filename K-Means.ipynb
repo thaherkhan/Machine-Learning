{
 "cells": [
  {
   "cell_type": "code",
   "execution_count": 28,
   "metadata": {},
   "outputs": [],
   "source": [
    "import numpy as np\n",
    "import matplotlib.pyplot as plt \n",
    "from pprint import pprint\n",
    "from sklearn import datasets\n",
    "from sklearn.metrics import accuracy_score"
   ]
  },
  {
   "cell_type": "code",
   "execution_count": 29,
   "metadata": {},
   "outputs": [
    {
     "name": "stdout",
     "output_type": "stream",
     "text": [
      "[[5.1 3.5 1.4 0.2]\n",
      " [4.9 3.  1.4 0.2]\n",
      " [4.7 3.2 1.3 0.2]\n",
      " [4.6 3.1 1.5 0.2]\n",
      " [5.  3.6 1.4 0.2]]\n",
      "[0 0 0 0 0 0 0 0 0 0 0 0 0 0 0 0 0 0 0 0]\n"
     ]
    }
   ],
   "source": [
    "iris =  datasets.load_iris() \n",
    "x = iris.data \n",
    "y = iris.target\n",
    "print(x[:5])\n",
    "print(y[:20])"
   ]
  },
  {
   "cell_type": "code",
   "execution_count": 30,
   "metadata": {},
   "outputs": [
    {
     "name": "stdout",
     "output_type": "stream",
     "text": [
      "[0.2 0.2 0.2 0.2 0.2 0.4 0.3 0.2 0.2 0.1 0.2 0.2 0.1 0.1 0.2 0.4 0.4 0.3\n",
      " 0.3 0.3 0.2 0.4 0.2 0.5 0.2 0.2 0.4 0.2 0.2 0.2 0.2 0.4 0.1 0.2 0.2 0.2\n",
      " 0.2 0.1 0.2 0.2 0.3 0.3 0.2 0.6 0.4 0.3 0.2 0.2 0.2 0.2 1.4 1.5 1.5 1.3\n",
      " 1.5 1.3 1.6 1.  1.3 1.4 1.  1.5 1.  1.4 1.3 1.4 1.5 1.  1.5 1.1 1.8 1.3\n",
      " 1.5 1.2 1.3 1.4 1.4 1.7 1.5 1.  1.1 1.  1.2 1.6 1.5 1.6 1.5 1.3 1.3 1.3\n",
      " 1.2 1.4 1.2 1.  1.3 1.2 1.3 1.3 1.1 1.3 2.5 1.9 2.1 1.8 2.2 2.1 1.7 1.8\n",
      " 1.8 2.5 2.  1.9 2.1 2.  2.4 2.3 1.8 2.2 2.3 1.5 2.3 2.  2.  1.8 2.1 1.8\n",
      " 1.8 1.8 2.1 1.6 1.9 2.  2.2 1.5 1.4 2.3 2.4 1.8 1.8 2.1 2.4 2.3 1.9 2.3\n",
      " 2.5 2.3 1.9 2.  2.3 1.8]\n"
     ]
    }
   ],
   "source": [
    "#print(x[:,0])\n",
    "#print(x[:,1])\n",
    "#print(x[:,2])\n",
    "print(x[:,3])"
   ]
  },
  {
   "cell_type": "code",
   "execution_count": 31,
   "metadata": {},
   "outputs": [],
   "source": [
    "#plt.scatter(x[:,0],x[:,1],marker='*', c=y)\n",
    "#plt.show()"
   ]
  },
  {
   "cell_type": "code",
   "execution_count": 32,
   "metadata": {},
   "outputs": [],
   "source": [
    "#plt.scatter(x[:,2],x[:,3],marker='*', c=y) \n",
    "#plt.show()"
   ]
  },
  {
   "cell_type": "code",
   "execution_count": 33,
   "metadata": {},
   "outputs": [
    {
     "data": {
      "image/png": "[encoded data removed]",
      "text/plain": [
       "<Figure size 432x288 with 1 Axes>"
      ]
     },
     "metadata": {
      "needs_background": "light"
     },
     "output_type": "display_data"
    }
   ],
   "source": [
    "plt.scatter(x[:,0],x[:,1],marker='*', c=y)\n",
    "plt.scatter(x[:,2],x[:,3],marker='*', c=y) \n",
    "plt.show()"
   ]
  },
  {
   "cell_type": "code",
   "execution_count": 34,
   "metadata": {},
   "outputs": [],
   "source": [
    "def get_random_centroids(k):\n",
    "    centroids={}\n",
    "    while True:\n",
    "        ri=np.random.choice(range(len(x)), k)\n",
    "        print(ri)\n",
    "        if len(set(ri))==k:  #found distinct k indexes.\n",
    "            for i in range(k):\n",
    "                centroids[i]=x[ri[i]]\n",
    "            break\n",
    "\n",
    "    return centroids"
   ]
  },
  {
   "cell_type": "code",
   "execution_count": 35,
   "metadata": {},
   "outputs": [
    {
     "name": "stdout",
     "output_type": "stream",
     "text": [
      "[ 64 118 113]\n",
      "{0: array([5.6, 2.9, 3.6, 1.3]), 1: array([7.7, 2.6, 6.9, 2.3]), 2: array([5.7, 2.5, 5. , 2. ])}\n"
     ]
    }
   ],
   "source": [
    "k = 3\n",
    "centroids=get_random_centroids(k)\n",
    "#print(centroids.keys())\n",
    "print(centroids)"
   ]
  },
  {
   "cell_type": "code",
   "execution_count": 36,
   "metadata": {},
   "outputs": [],
   "source": [
    "def e_dist(x1, x2):\n",
    "    return np.sqrt( (x1[0]-x2[0])**2 +  (x1[1]-x2[1])**2)\n",
    "\n",
    "def e_dist(x1, x2):\n",
    "    return np.linalg.norm(x1-x2)"
   ]
  },
  {
   "cell_type": "code",
   "execution_count": 37,
   "metadata": {},
   "outputs": [
    {
     "data": {
      "text/plain": [
       "5.0"
      ]
     },
     "execution_count": 37,
     "metadata": {},
     "output_type": "execute_result"
    }
   ],
   "source": [
    "e_dist(np.array([0,0]), np.array([3,4]))"
   ]
  },
  {
   "cell_type": "code",
   "execution_count": 38,
   "metadata": {},
   "outputs": [
    {
     "name": "stdout",
     "output_type": "stream",
     "text": [
      "dict_items([(0, array([5.6, 2.9, 3.6, 1.3])), (1, array([7.7, 2.6, 6.9, 2.3])), (2, array([5.7, 2.5, 5. , 2. ]))])\n"
     ]
    }
   ],
   "source": [
    "print(centroids.items())"
   ]
  },
  {
   "cell_type": "code",
   "execution_count": 39,
   "metadata": {},
   "outputs": [
    {
     "name": "stdout",
     "output_type": "stream",
     "text": [
      "[6.915200647848188, 6.719374970932938, 6.967065379340142]\n",
      "1\n"
     ]
    }
   ],
   "source": [
    "xx=[8,9,5,3]\n",
    "dd=[e_dist(xx,v) for k,v in centroids.items() ]\n",
    "print(dd)\n",
    "\n",
    "closest=dd.index( min(dd) )\n",
    "print(closest)"
   ]
  },
  {
   "cell_type": "code",
   "execution_count": 40,
   "metadata": {},
   "outputs": [
    {
     "name": "stdout",
     "output_type": "stream",
     "text": [
      "xx = [5.1 3.5 1.4 0.2]  closest centroid = [5.6 2.9 3.6 1.3]\n",
      "xx = [4.9 3.  1.4 0.2]  closest centroid = [5.6 2.9 3.6 1.3]\n",
      "xx = [4.7 3.2 1.3 0.2]  closest centroid = [5.6 2.9 3.6 1.3]\n",
      "xx = [4.6 3.1 1.5 0.2]  closest centroid = [5.6 2.9 3.6 1.3]\n",
      "xx = [5.  3.6 1.4 0.2]  closest centroid = [5.6 2.9 3.6 1.3]\n",
      "xx = [5.4 3.9 1.7 0.4]  closest centroid = [5.6 2.9 3.6 1.3]\n",
      "xx = [4.6 3.4 1.4 0.3]  closest centroid = [5.6 2.9 3.6 1.3]\n",
      "xx = [5.  3.4 1.5 0.2]  closest centroid = [5.6 2.9 3.6 1.3]\n",
      "xx = [4.4 2.9 1.4 0.2]  closest centroid = [5.6 2.9 3.6 1.3]\n",
      "xx = [4.9 3.1 1.5 0.1]  closest centroid = [5.6 2.9 3.6 1.3]\n",
      "xx = [5.4 3.7 1.5 0.2]  closest centroid = [5.6 2.9 3.6 1.3]\n",
      "xx = [4.8 3.4 1.6 0.2]  closest centroid = [5.6 2.9 3.6 1.3]\n",
      "xx = [4.8 3.  1.4 0.1]  closest centroid = [5.6 2.9 3.6 1.3]\n",
      "xx = [4.3 3.  1.1 0.1]  closest centroid = [5.6 2.9 3.6 1.3]\n",
      "xx = [5.8 4.  1.2 0.2]  closest centroid = [5.6 2.9 3.6 1.3]\n",
      "xx = [5.7 4.4 1.5 0.4]  closest centroid = [5.6 2.9 3.6 1.3]\n",
      "xx = [5.4 3.9 1.3 0.4]  closest centroid = [5.6 2.9 3.6 1.3]\n",
      "xx = [5.1 3.5 1.4 0.3]  closest centroid = [5.6 2.9 3.6 1.3]\n",
      "xx = [5.7 3.8 1.7 0.3]  closest centroid = [5.6 2.9 3.6 1.3]\n",
      "xx = [5.1 3.8 1.5 0.3]  closest centroid = [5.6 2.9 3.6 1.3]\n",
      "xx = [5.4 3.4 1.7 0.2]  closest centroid = [5.6 2.9 3.6 1.3]\n",
      "xx = [5.1 3.7 1.5 0.4]  closest centroid = [5.6 2.9 3.6 1.3]\n",
      "xx = [4.6 3.6 1.  0.2]  closest centroid = [5.6 2.9 3.6 1.3]\n",
      "xx = [5.1 3.3 1.7 0.5]  closest centroid = [5.6 2.9 3.6 1.3]\n",
      "xx = [4.8 3.4 1.9 0.2]  closest centroid = [5.6 2.9 3.6 1.3]\n",
      "xx = [5.  3.  1.6 0.2]  closest centroid = [5.6 2.9 3.6 1.3]\n",
      "xx = [5.  3.4 1.6 0.4]  closest centroid = [5.6 2.9 3.6 1.3]\n",
      "xx = [5.2 3.5 1.5 0.2]  closest centroid = [5.6 2.9 3.6 1.3]\n",
      "xx = [5.2 3.4 1.4 0.2]  closest centroid = [5.6 2.9 3.6 1.3]\n",
      "xx = [4.7 3.2 1.6 0.2]  closest centroid = [5.6 2.9 3.6 1.3]\n",
      "xx = [4.8 3.1 1.6 0.2]  closest centroid = [5.6 2.9 3.6 1.3]\n",
      "xx = [5.4 3.4 1.5 0.4]  closest centroid = [5.6 2.9 3.6 1.3]\n",
      "xx = [5.2 4.1 1.5 0.1]  closest centroid = [5.6 2.9 3.6 1.3]\n",
      "xx = [5.5 4.2 1.4 0.2]  closest centroid = [5.6 2.9 3.6 1.3]\n",
      "xx = [4.9 3.1 1.5 0.2]  closest centroid = [5.6 2.9 3.6 1.3]\n",
      "xx = [5.  3.2 1.2 0.2]  closest centroid = [5.6 2.9 3.6 1.3]\n",
      "xx = [5.5 3.5 1.3 0.2]  closest centroid = [5.6 2.9 3.6 1.3]\n",
      "xx = [4.9 3.6 1.4 0.1]  closest centroid = [5.6 2.9 3.6 1.3]\n",
      "xx = [4.4 3.  1.3 0.2]  closest centroid = [5.6 2.9 3.6 1.3]\n",
      "xx = [5.1 3.4 1.5 0.2]  closest centroid = [5.6 2.9 3.6 1.3]\n",
      "xx = [5.  3.5 1.3 0.3]  closest centroid = [5.6 2.9 3.6 1.3]\n",
      "xx = [4.5 2.3 1.3 0.3]  closest centroid = [5.6 2.9 3.6 1.3]\n",
      "xx = [4.4 3.2 1.3 0.2]  closest centroid = [5.6 2.9 3.6 1.3]\n",
      "xx = [5.  3.5 1.6 0.6]  closest centroid = [5.6 2.9 3.6 1.3]\n",
      "xx = [5.1 3.8 1.9 0.4]  closest centroid = [5.6 2.9 3.6 1.3]\n",
      "xx = [4.8 3.  1.4 0.3]  closest centroid = [5.6 2.9 3.6 1.3]\n",
      "xx = [5.1 3.8 1.6 0.2]  closest centroid = [5.6 2.9 3.6 1.3]\n",
      "xx = [4.6 3.2 1.4 0.2]  closest centroid = [5.6 2.9 3.6 1.3]\n",
      "xx = [5.3 3.7 1.5 0.2]  closest centroid = [5.6 2.9 3.6 1.3]\n",
      "xx = [5.  3.3 1.4 0.2]  closest centroid = [5.6 2.9 3.6 1.3]\n",
      "xx = [7.  3.2 4.7 1.4]  closest centroid = [5.7 2.5 5.  2. ]\n",
      "xx = [6.4 3.2 4.5 1.5]  closest centroid = [5.7 2.5 5.  2. ]\n",
      "xx = [6.9 3.1 4.9 1.5]  closest centroid = [5.7 2.5 5.  2. ]\n",
      "xx = [5.5 2.3 4.  1.3]  closest centroid = [5.6 2.9 3.6 1.3]\n",
      "xx = [6.5 2.8 4.6 1.5]  closest centroid = [5.7 2.5 5.  2. ]\n",
      "xx = [5.7 2.8 4.5 1.3]  closest centroid = [5.7 2.5 5.  2. ]\n",
      "xx = [6.3 3.3 4.7 1.6]  closest centroid = [5.7 2.5 5.  2. ]\n",
      "xx = [4.9 2.4 3.3 1. ]  closest centroid = [5.6 2.9 3.6 1.3]\n",
      "xx = [6.6 2.9 4.6 1.3]  closest centroid = [5.7 2.5 5.  2. ]\n",
      "xx = [5.2 2.7 3.9 1.4]  closest centroid = [5.6 2.9 3.6 1.3]\n",
      "xx = [5.  2.  3.5 1. ]  closest centroid = [5.6 2.9 3.6 1.3]\n",
      "xx = [5.9 3.  4.2 1.5]  closest centroid = [5.6 2.9 3.6 1.3]\n",
      "xx = [6.  2.2 4.  1. ]  closest centroid = [5.6 2.9 3.6 1.3]\n",
      "xx = [6.1 2.9 4.7 1.4]  closest centroid = [5.7 2.5 5.  2. ]\n",
      "xx = [5.6 2.9 3.6 1.3]  closest centroid = [5.6 2.9 3.6 1.3]\n",
      "xx = [6.7 3.1 4.4 1.4]  closest centroid = [5.6 2.9 3.6 1.3]\n",
      "xx = [5.6 3.  4.5 1.5]  closest centroid = [5.7 2.5 5.  2. ]\n",
      "xx = [5.8 2.7 4.1 1. ]  closest centroid = [5.6 2.9 3.6 1.3]\n",
      "xx = [6.2 2.2 4.5 1.5]  closest centroid = [5.7 2.5 5.  2. ]\n",
      "xx = [5.6 2.5 3.9 1.1]  closest centroid = [5.6 2.9 3.6 1.3]\n",
      "xx = [5.9 3.2 4.8 1.8]  closest centroid = [5.7 2.5 5.  2. ]\n",
      "xx = [6.1 2.8 4.  1.3]  closest centroid = [5.6 2.9 3.6 1.3]\n",
      "xx = [6.3 2.5 4.9 1.5]  closest centroid = [5.7 2.5 5.  2. ]\n",
      "xx = [6.1 2.8 4.7 1.2]  closest centroid = [5.7 2.5 5.  2. ]\n",
      "xx = [6.4 2.9 4.3 1.3]  closest centroid = [5.6 2.9 3.6 1.3]\n",
      "xx = [6.6 3.  4.4 1.4]  closest centroid = [5.6 2.9 3.6 1.3]\n",
      "xx = [6.8 2.8 4.8 1.4]  closest centroid = [5.7 2.5 5.  2. ]\n",
      "xx = [6.7 3.  5.  1.7]  closest centroid = [5.7 2.5 5.  2. ]\n",
      "xx = [6.  2.9 4.5 1.5]  closest centroid = [5.7 2.5 5.  2. ]\n",
      "xx = [5.7 2.6 3.5 1. ]  closest centroid = [5.6 2.9 3.6 1.3]\n",
      "xx = [5.5 2.4 3.8 1.1]  closest centroid = [5.6 2.9 3.6 1.3]\n",
      "xx = [5.5 2.4 3.7 1. ]  closest centroid = [5.6 2.9 3.6 1.3]\n",
      "xx = [5.8 2.7 3.9 1.2]  closest centroid = [5.6 2.9 3.6 1.3]\n",
      "xx = [6.  2.7 5.1 1.6]  closest centroid = [5.7 2.5 5.  2. ]\n",
      "xx = [5.4 3.  4.5 1.5]  closest centroid = [5.7 2.5 5.  2. ]\n",
      "xx = [6.  3.4 4.5 1.6]  closest centroid = [5.7 2.5 5.  2. ]\n",
      "xx = [6.7 3.1 4.7 1.5]  closest centroid = [5.7 2.5 5.  2. ]\n",
      "xx = [6.3 2.3 4.4 1.3]  closest centroid = [5.7 2.5 5.  2. ]\n",
      "xx = [5.6 3.  4.1 1.3]  closest centroid = [5.6 2.9 3.6 1.3]\n",
      "xx = [5.5 2.5 4.  1.3]  closest centroid = [5.6 2.9 3.6 1.3]\n",
      "xx = [5.5 2.6 4.4 1.2]  closest centroid = [5.6 2.9 3.6 1.3]\n",
      "xx = [6.1 3.  4.6 1.4]  closest centroid = [5.7 2.5 5.  2. ]\n",
      "xx = [5.8 2.6 4.  1.2]  closest centroid = [5.6 2.9 3.6 1.3]\n",
      "xx = [5.  2.3 3.3 1. ]  closest centroid = [5.6 2.9 3.6 1.3]\n",
      "xx = [5.6 2.7 4.2 1.3]  closest centroid = [5.6 2.9 3.6 1.3]\n",
      "xx = [5.7 3.  4.2 1.2]  closest centroid = [5.6 2.9 3.6 1.3]\n",
      "xx = [5.7 2.9 4.2 1.3]  closest centroid = [5.6 2.9 3.6 1.3]\n",
      "xx = [6.2 2.9 4.3 1.3]  closest centroid = [5.6 2.9 3.6 1.3]\n",
      "xx = [5.1 2.5 3.  1.1]  closest centroid = [5.6 2.9 3.6 1.3]\n",
      "xx = [5.7 2.8 4.1 1.3]  closest centroid = [5.6 2.9 3.6 1.3]\n",
      "xx = [6.3 3.3 6.  2.5]  closest centroid = [5.7 2.5 5.  2. ]\n",
      "xx = [5.8 2.7 5.1 1.9]  closest centroid = [5.7 2.5 5.  2. ]\n",
      "xx = [7.1 3.  5.9 2.1]  closest centroid = [7.7 2.6 6.9 2.3]\n",
      "xx = [6.3 2.9 5.6 1.8]  closest centroid = [5.7 2.5 5.  2. ]\n",
      "xx = [6.5 3.  5.8 2.2]  closest centroid = [5.7 2.5 5.  2. ]\n",
      "xx = [7.6 3.  6.6 2.1]  closest centroid = [7.7 2.6 6.9 2.3]\n",
      "xx = [4.9 2.5 4.5 1.7]  closest centroid = [5.7 2.5 5.  2. ]\n",
      "xx = [7.3 2.9 6.3 1.8]  closest centroid = [7.7 2.6 6.9 2.3]\n",
      "xx = [6.7 2.5 5.8 1.8]  closest centroid = [5.7 2.5 5.  2. ]\n",
      "xx = [7.2 3.6 6.1 2.5]  closest centroid = [7.7 2.6 6.9 2.3]\n",
      "xx = [6.5 3.2 5.1 2. ]  closest centroid = [5.7 2.5 5.  2. ]\n",
      "xx = [6.4 2.7 5.3 1.9]  closest centroid = [5.7 2.5 5.  2. ]\n",
      "xx = [6.8 3.  5.5 2.1]  closest centroid = [5.7 2.5 5.  2. ]\n",
      "xx = [5.7 2.5 5.  2. ]  closest centroid = [5.7 2.5 5.  2. ]\n",
      "xx = [5.8 2.8 5.1 2.4]  closest centroid = [5.7 2.5 5.  2. ]\n",
      "xx = [6.4 3.2 5.3 2.3]  closest centroid = [5.7 2.5 5.  2. ]\n",
      "xx = [6.5 3.  5.5 1.8]  closest centroid = [5.7 2.5 5.  2. ]\n",
      "xx = [7.7 3.8 6.7 2.2]  closest centroid = [7.7 2.6 6.9 2.3]\n",
      "xx = [7.7 2.6 6.9 2.3]  closest centroid = [7.7 2.6 6.9 2.3]\n",
      "xx = [6.  2.2 5.  1.5]  closest centroid = [5.7 2.5 5.  2. ]\n",
      "xx = [6.9 3.2 5.7 2.3]  closest centroid = [7.7 2.6 6.9 2.3]\n",
      "xx = [5.6 2.8 4.9 2. ]  closest centroid = [5.7 2.5 5.  2. ]\n",
      "xx = [7.7 2.8 6.7 2. ]  closest centroid = [7.7 2.6 6.9 2.3]\n",
      "xx = [6.3 2.7 4.9 1.8]  closest centroid = [5.7 2.5 5.  2. ]\n",
      "xx = [6.7 3.3 5.7 2.1]  closest centroid = [5.7 2.5 5.  2. ]\n",
      "xx = [7.2 3.2 6.  1.8]  closest centroid = [7.7 2.6 6.9 2.3]\n",
      "xx = [6.2 2.8 4.8 1.8]  closest centroid = [5.7 2.5 5.  2. ]\n",
      "xx = [6.1 3.  4.9 1.8]  closest centroid = [5.7 2.5 5.  2. ]\n",
      "xx = [6.4 2.8 5.6 2.1]  closest centroid = [5.7 2.5 5.  2. ]\n",
      "xx = [7.2 3.  5.8 1.6]  closest centroid = [7.7 2.6 6.9 2.3]\n",
      "xx = [7.4 2.8 6.1 1.9]  closest centroid = [7.7 2.6 6.9 2.3]\n",
      "xx = [7.9 3.8 6.4 2. ]  closest centroid = [7.7 2.6 6.9 2.3]\n",
      "xx = [6.4 2.8 5.6 2.2]  closest centroid = [5.7 2.5 5.  2. ]\n",
      "xx = [6.3 2.8 5.1 1.5]  closest centroid = [5.7 2.5 5.  2. ]\n",
      "xx = [6.1 2.6 5.6 1.4]  closest centroid = [5.7 2.5 5.  2. ]\n",
      "xx = [7.7 3.  6.1 2.3]  closest centroid = [7.7 2.6 6.9 2.3]\n",
      "xx = [6.3 3.4 5.6 2.4]  closest centroid = [5.7 2.5 5.  2. ]\n",
      "xx = [6.4 3.1 5.5 1.8]  closest centroid = [5.7 2.5 5.  2. ]\n",
      "xx = [6.  3.  4.8 1.8]  closest centroid = [5.7 2.5 5.  2. ]\n",
      "xx = [6.9 3.1 5.4 2.1]  closest centroid = [5.7 2.5 5.  2. ]\n",
      "xx = [6.7 3.1 5.6 2.4]  closest centroid = [5.7 2.5 5.  2. ]\n",
      "xx = [6.9 3.1 5.1 2.3]  closest centroid = [5.7 2.5 5.  2. ]\n",
      "xx = [5.8 2.7 5.1 1.9]  closest centroid = [5.7 2.5 5.  2. ]\n",
      "xx = [6.8 3.2 5.9 2.3]  closest centroid = [7.7 2.6 6.9 2.3]\n",
      "xx = [6.7 3.3 5.7 2.5]  closest centroid = [5.7 2.5 5.  2. ]\n",
      "xx = [6.7 3.  5.2 2.3]  closest centroid = [5.7 2.5 5.  2. ]\n",
      "xx = [6.3 2.5 5.  1.9]  closest centroid = [5.7 2.5 5.  2. ]\n",
      "xx = [6.5 3.  5.2 2. ]  closest centroid = [5.7 2.5 5.  2. ]\n",
      "xx = [6.2 3.4 5.4 2.3]  closest centroid = [5.7 2.5 5.  2. ]\n",
      "xx = [5.9 3.  5.1 1.8]  closest centroid = [5.7 2.5 5.  2. ]\n"
     ]
    }
   ],
   "source": [
    "for xx in x:                                        #for each sample\n",
    "    dists=[e_dist(xx,v) for k,v in centroids.items() ]\n",
    "    closest=dists.index( min(dists) )\n",
    "    mc=list(centroids.values())[closest]\n",
    "    print('xx =',xx,' closest centroid =',mc)\n",
    "    "
   ]
  },
  {
   "cell_type": "code",
   "execution_count": 41,
   "metadata": {},
   "outputs": [
    {
     "name": "stdout",
     "output_type": "stream",
     "text": [
      "{0: array([5.6, 2.9, 3.6, 1.3]), 1: array([7.7, 2.6, 6.9, 2.3]), 2: array([5.7, 2.5, 5. , 2. ])}\n"
     ]
    }
   ],
   "source": [
    "print(centroids)"
   ]
  },
  {
   "cell_type": "markdown",
   "metadata": {},
   "source": [
    "# Finding Good K using elbow method"
   ]
  },
  {
   "cell_type": "code",
   "execution_count": 55,
   "metadata": {},
   "outputs": [
    {
     "name": "stdout",
     "output_type": "stream",
     "text": [
      "[86]\n",
      "centroids:  {0: array([6.7, 3.1, 4.7, 1.5])}\n",
      "centroids:  {0: array([5.84333333, 3.05733333, 3.758     , 1.19933333])}\n",
      "NO FURTHER UPDATE\n",
      "k= 1 sse= 681.3706000000001\n",
      "[148   5]\n",
      "centroids:  {0: array([6.2, 3.4, 5.4, 2.3]), 1: array([5.4, 3.9, 1.7, 0.4])}\n",
      "centroids:  {0: array([6.32105263, 2.89894737, 4.98947368, 1.71052632]), 1: array([5.01818182, 3.33090909, 1.63090909, 0.31636364])}\n",
      "centroids:  {0: array([6.30103093, 2.88659794, 4.95876289, 1.69587629]), 1: array([5.00566038, 3.36981132, 1.56037736, 0.29056604])}\n",
      "NO FURTHER UPDATE\n",
      "k= 2 sse= 152.34795176035794\n",
      "[22 92 65]\n",
      "centroids:  {0: array([4.6, 3.6, 1. , 0.2]), 1: array([5.8, 2.6, 4. , 1.2]), 2: array([6.7, 3.1, 4.4, 1.4])}\n",
      "centroids:  {0: array([5.006, 3.428, 1.462, 0.246]), 1: array([5.61944444, 2.61388889, 4.15      , 1.33333333]), 2: array([6.6234375, 3.0171875, 5.33125  , 1.86875  ])}\n",
      "centroids:  {0: array([5.006, 3.428, 1.462, 0.246]), 1: array([5.69  , 2.665 , 4.1575, 1.31  ]), 2: array([6.64333333, 3.01      , 5.405     , 1.92      ])}\n",
      "centroids:  {0: array([5.006, 3.428, 1.462, 0.246]), 1: array([5.75116279, 2.69534884, 4.17674419, 1.31860465]), 2: array([6.64736842, 3.00526316, 5.45614035, 1.94561404])}\n",
      "centroids:  {0: array([5.006, 3.428, 1.462, 0.246]), 1: array([5.79361702, 2.71914894, 4.2212766 , 1.34255319]), 2: array([6.67735849, 3.00754717, 5.51320755, 1.97169811])}\n",
      "centroids:  {0: array([5.006, 3.428, 1.462, 0.246]), 1: array([5.822, 2.728, 4.256, 1.36 ]), 2: array([6.702, 3.016, 5.556, 1.992])}\n",
      "centroids:  {0: array([5.006, 3.428, 1.462, 0.246]), 1: array([5.82962963, 2.73148148, 4.31481481, 1.39259259]), 2: array([6.76956522, 3.03695652, 5.6       , 2.00869565])}\n",
      "centroids:  {0: array([5.006, 3.428, 1.462, 0.246]), 1: array([5.85438596, 2.74210526, 4.34561404, 1.40877193]), 2: array([6.80232558, 3.04418605, 5.64883721, 2.03023256])}\n",
      "centroids:  {0: array([5.006, 3.428, 1.462, 0.246]), 1: array([5.885     , 2.74      , 4.37666667, 1.41833333]), 2: array([6.8275, 3.07  , 5.7   , 2.0625])}\n",
      "centroids:  {0: array([5.006, 3.428, 1.462, 0.246]), 1: array([5.88360656, 2.74098361, 4.38852459, 1.43442623]), 2: array([6.85384615, 3.07692308, 5.71538462, 2.05384615])}\n",
      "NO FURTHER UPDATE\n",
      "k= 3 sse= 78.85566582597723\n",
      "[ 97  54  75 137]\n",
      "centroids:  {0: array([6.2, 2.9, 4.3, 1.3]), 1: array([6.5, 2.8, 4.6, 1.5]), 2: array([6.6, 3. , 4.4, 1.4]), 3: array([6.4, 3.1, 5.5, 1.8])}\n",
      "centroids:  {0: array([5.27176471, 3.12941176, 2.53647059, 0.66352941]), 1: array([6.26470588, 2.71176471, 4.85294118, 1.64117647]), 2: array([6.61428571, 3.11428571, 4.57142857, 1.44285714]), 3: array([6.72195122, 3.04146341, 5.69756098, 2.08536585])}\n",
      "centroids:  {0: array([5.03684211, 3.30701754, 1.70175439, 0.34561404]), 1: array([5.84772727, 2.70909091, 4.56590909, 1.50681818]), 2: array([6.52666667, 3.03333333, 4.56      , 1.44666667]), 3: array([6.88823529, 3.1       , 5.80588235, 2.12352941])}\n",
      "centroids:  {0: array([5.00784314, 3.40980392, 1.49215686, 0.2627451 ]), 1: array([5.76326531, 2.6755102 , 4.39591837, 1.43877551]), 2: array([6.5375 , 3.04375, 4.6625 , 1.49375]), 3: array([6.88529412, 3.08529412, 5.81176471, 2.12058824])}\n",
      "centroids:  {0: array([5.006, 3.428, 1.462, 0.246]), 1: array([5.66  , 2.6325, 4.215 , 1.3625]), 2: array([6.37307692, 2.96153846, 4.78461538, 1.57692308]), 3: array([6.88529412, 3.08529412, 5.81176471, 2.12058824])}\n",
      "centroids:  {0: array([5.006, 3.428, 1.462, 0.246]), 1: array([5.58      , 2.61      , 3.99333333, 1.24      ]), 2: array([6.25263158, 2.88684211, 4.83421053, 1.63684211]), 3: array([6.9125  , 3.1     , 5.846875, 2.13125 ])}\n",
      "centroids:  {0: array([5.006, 3.428, 1.462, 0.246]), 1: array([5.53214286, 2.63571429, 3.96071429, 1.22857143]), 2: array([6.2525, 2.855 , 4.815 , 1.625 ]), 3: array([6.9125  , 3.1     , 5.846875, 2.13125 ])}\n",
      "NO FURTHER UPDATE\n",
      "k= 4 sse= 57.22847321428573\n",
      "[113  64  55  35  76]\n",
      "centroids:  {0: array([5.7, 2.5, 5. , 2. ]), 1: array([5.6, 2.9, 3.6, 1.3]), 2: array([5.7, 2.8, 4.5, 1.3]), 3: array([5. , 3.2, 1.2, 0.2]), 4: array([6.8, 2.8, 4.8, 1.4])}\n",
      "centroids:  {0: array([6.11363636, 2.85454545, 5.25909091, 1.97727273]), 1: array([5.40714286, 2.48571429, 3.67142857, 1.14285714]), 2: array([5.83043478, 2.80869565, 4.36956522, 1.36521739]), 3: array([5.006, 3.428, 1.462, 0.246]), 4: array([6.87560976, 3.04878049, 5.43902439, 1.87073171])}\n",
      "centroids:  {0: array([6.15      , 2.86785714, 5.19285714, 1.91785714]), 1: array([5.42142857, 2.45714286, 3.67142857, 1.12857143]), 2: array([5.98275862, 2.86206897, 4.3862069 , 1.37241379]), 3: array([5.006, 3.428, 1.462, 0.246]), 4: array([7.05517241, 3.0862069 , 5.74482759, 2.01034483])}\n",
      "centroids:  {0: array([6.21612903, 2.87419355, 5.16129032, 1.88709677]), 1: array([5.4125 , 2.46875, 3.74375, 1.16875]), 2: array([6.11      , 2.9       , 4.43      , 1.37333333]), 3: array([5.006, 3.428, 1.462, 0.246]), 4: array([7.11304348, 3.11304348, 5.99130435, 2.13913043])}\n",
      "centroids:  {0: array([6.2375  , 2.88125 , 5.159375, 1.9     ]), 1: array([5.44736842, 2.5       , 3.82105263, 1.16842105]), 2: array([6.16296296, 2.92592593, 4.45185185, 1.3962963 ]), 3: array([5.006, 3.428, 1.462, 0.246]), 4: array([7.12272727, 3.11363636, 6.03181818, 2.13181818])}\n",
      "centroids:  {0: array([6.2375  , 2.88125 , 5.159375, 1.9     ]), 1: array([5.46666667, 2.53809524, 3.84761905, 1.18095238]), 2: array([6.204, 2.928, 4.48 , 1.404]), 3: array([5.006, 3.428, 1.462, 0.246]), 4: array([7.12272727, 3.11363636, 6.03181818, 2.13181818])}\n",
      "centroids:  {0: array([6.21612903, 2.87419355, 5.16774194, 1.91290323]), 1: array([5.47727273, 2.55454545, 3.86363636, 1.18636364]), 2: array([6.252, 2.936, 4.508, 1.412]), 3: array([5.006, 3.428, 1.462, 0.246]), 4: array([7.12272727, 3.11363636, 6.03181818, 2.13181818])}\n",
      "centroids:  {0: array([6.21333333, 2.88666667, 5.17666667, 1.92666667]), 1: array([5.48333333, 2.59166667, 3.90416667, 1.2       ]), 2: array([6.3125    , 2.9125    , 4.5375    , 1.42083333]), 3: array([5.006, 3.428, 1.462, 0.246]), 4: array([7.12272727, 3.11363636, 6.03181818, 2.13181818])}\n",
      "NO FURTHER UPDATE\n",
      "k= 5 sse= 49.862249999999996\n",
      "[143 109  24   4 103  59]\n",
      "centroids:  {0: array([6.8, 3.2, 5.9, 2.3]), 1: array([7.2, 3.6, 6.1, 2.5]), 2: array([4.8, 3.4, 1.9, 0.2]), 3: array([5. , 3.6, 1.4, 0.2]), 4: array([6.3, 2.9, 5.6, 1.8]), 5: array([5.2, 2.7, 3.9, 1.4])}\n",
      "centroids:  {0: array([6.84705882, 3.11176471, 5.72352941, 2.15882353]), 1: array([7.64285714, 3.22857143, 6.5       , 2.2       ]), 2: array([4.76923077, 3.13076923, 1.56923077, 0.23846154]), 3: array([5.08918919, 3.53243243, 1.42432432, 0.24864865]), 4: array([6.29285714, 2.88809524, 5.00952381, 1.72857143]), 5: array([5.64705882, 2.65882353, 4.04117647, 1.26176471])}\n",
      "centroids:  {0: array([6.69 , 3.095, 5.63 , 2.185]), 1: array([7.57777778, 3.14444444, 6.43333333, 2.12222222]), 2: array([4.67894737, 3.08421053, 1.44736842, 0.2       ]), 3: array([5.20645161, 3.63870968, 1.47096774, 0.27419355]), 4: array([6.26153846, 2.89487179, 4.91538462, 1.66666667]), 5: array([5.625   , 2.628125, 4.0125  , 1.24375 ])}\n",
      "centroids:  {0: array([6.62727273, 3.07727273, 5.6       , 2.15      ]), 1: array([7.54, 3.15, 6.39, 2.09]), 2: array([4.70454545, 3.12272727, 1.41363636, 0.2       ]), 3: array([5.24285714, 3.66785714, 1.5       , 0.28214286]), 4: array([6.25263158, 2.86842105, 4.83947368, 1.64210526]), 5: array([5.58      , 2.63333333, 3.98666667, 1.23333333])}\n",
      "centroids:  {0: array([6.61666667, 3.07916667, 5.5625    , 2.1375    ]), 1: array([7.54, 3.15, 6.39, 2.09]), 2: array([4.70454545, 3.12272727, 1.41363636, 0.2       ]), 3: array([5.24285714, 3.66785714, 1.5       , 0.28214286]), 4: array([6.23947368, 2.84210526, 4.79736842, 1.60526316]), 5: array([5.53214286, 2.63571429, 3.96071429, 1.22857143])}\n",
      "centroids:  {0: array([6.608, 3.064, 5.552, 2.128]), 1: array([7.54, 3.15, 6.39, 2.09]), 2: array([4.70454545, 3.12272727, 1.41363636, 0.2       ]), 3: array([5.24285714, 3.66785714, 1.5       , 0.28214286]), 4: array([6.23513514, 2.84594595, 4.78378378, 1.5972973 ]), 5: array([5.53214286, 2.63571429, 3.96071429, 1.22857143])}\n",
      "NO FURTHER UPDATE\n",
      "k= 6 sse= 39.306107125307115\n",
      "[121  90  51 135  59  33  25]\n",
      "centroids:  {0: array([5.6, 2.8, 4.9, 2. ]), 1: array([5.5, 2.6, 4.4, 1.2]), 2: array([6.4, 3.2, 4.5, 1.5]), 3: array([7.7, 3. , 6.1, 2.3]), 4: array([5.2, 2.7, 3.9, 1.4]), 5: array([5.5, 4.2, 1.4, 0.2]), 6: array([5. , 3. , 1.6, 0.2])}\n",
      "centroids:  {0: array([6.07 , 2.845, 5.195, 1.94 ]), 1: array([5.73529412, 2.66470588, 4.20588235, 1.26470588]), 2: array([6.42333333, 2.97666667, 4.74666667, 1.58333333]), 3: array([7.12272727, 3.11363636, 6.03181818, 2.13181818]), 4: array([5.26363636, 2.47272727, 3.64545455, 1.17272727]), 5: array([5.37857143, 3.87857143, 1.50714286, 0.27857143]), 6: array([4.86111111, 3.25277778, 1.44444444, 0.23333333])}\n",
      "centroids:  {0: array([6.16 , 2.888, 5.216, 1.948]), 1: array([5.74285714, 2.7       , 4.21428571, 1.3       ]), 2: array([6.45      , 2.96818182, 4.7       , 1.52272727]), 3: array([7.12272727, 3.11363636, 6.03181818, 2.13181818]), 4: array([5.3 , 2.45, 3.56, 1.12]), 5: array([5.38125, 3.81875, 1.51875, 0.28125]), 6: array([4.82941176, 3.24411765, 1.43529412, 0.22941176])}\n",
      "centroids:  {0: array([6.19259259, 2.88888889, 5.2       , 1.95555556]), 1: array([5.74347826, 2.69130435, 4.2173913 , 1.30869565]), 2: array([6.45789474, 2.97894737, 4.67894737, 1.46842105]), 3: array([7.12272727, 3.11363636, 6.03181818, 2.13181818]), 4: array([5.27777778, 2.46666667, 3.51111111, 1.1       ]), 5: array([5.37058824, 3.8       , 1.51764706, 0.27647059]), 6: array([4.81818182, 3.23636364, 1.43333333, 0.23030303])}\n",
      "centroids:  {0: array([6.19285714, 2.88571429, 5.18571429, 1.95      ]), 1: array([5.72272727, 2.68181818, 4.21363636, 1.30909091]), 2: array([6.45789474, 2.98421053, 4.65263158, 1.44210526]), 3: array([7.12272727, 3.11363636, 6.03181818, 2.13181818]), 4: array([5.27777778, 2.46666667, 3.51111111, 1.1       ]), 5: array([5.37058824, 3.8       , 1.51764706, 0.27647059]), 6: array([4.81818182, 3.23636364, 1.43333333, 0.23030303])}\n",
      "centroids:  {0: array([6.19655172, 2.88275862, 5.18275862, 1.93448276]), 1: array([5.72272727, 2.68181818, 4.21363636, 1.30909091]), 2: array([6.46666667, 2.99444444, 4.62777778, 1.43888889]), 3: array([7.12272727, 3.11363636, 6.03181818, 2.13181818]), 4: array([5.27777778, 2.46666667, 3.51111111, 1.1       ]), 5: array([5.37058824, 3.8       , 1.51764706, 0.27647059]), 6: array([4.81818182, 3.23636364, 1.43333333, 0.23030303])}\n",
      "NO FURTHER UPDATE\n",
      "k= 7 sse= 38.705236441494044\n",
      "[ 35  98 125 129  48   5 132   1]\n",
      "centroids:  {0: array([5. , 3.2, 1.2, 0.2]), 1: array([5.1, 2.5, 3. , 1.1]), 2: array([7.2, 3.2, 6. , 1.8]), 3: array([7.2, 3. , 5.8, 1.6]), 4: array([5.3, 3.7, 1.5, 0.2]), 5: array([5.4, 3.9, 1.7, 0.4]), 6: array([6.4, 2.8, 5.6, 2.2]), 7: array([4.9, 3. , 1.4, 0.2])}\n",
      "centroids:  {0: array([4.86666667, 3.4       , 1.3       , 0.23333333]), 1: array([5.528, 2.6  , 3.896, 1.204]), 2: array([7.4       , 3.14615385, 6.26153846, 2.12307692]), 3: array([6.88333333, 3.05      , 4.88333333, 1.46666667]), 4: array([5.215, 3.62 , 1.465, 0.26 ]), 5: array([5.48, 4.02, 1.64, 0.34]), 6: array([6.25892857, 2.91071429, 5.04464286, 1.80535714]), 7: array([4.70526316, 3.07894737, 1.46315789, 0.21052632])}\n"
     ]
    },
    {
     "name": "stdout",
     "output_type": "stream",
     "text": [
      "centroids:  {0: array([4.8625, 3.425 , 1.35  , 0.2125]), 1: array([5.58      , 2.63333333, 3.98666667, 1.23333333]), 2: array([7.24117647, 3.16470588, 6.15294118, 2.13529412]), 3: array([6.66363636, 3.00909091, 4.62727273, 1.44545455]), 4: array([5.17777778, 3.55      , 1.52777778, 0.29444444]), 5: array([5.52857143, 4.04285714, 1.47142857, 0.28571429]), 6: array([6.24761905, 2.88809524, 5.13095238, 1.86666667]), 7: array([4.67647059, 3.04705882, 1.44117647, 0.19411765])}\n",
      "centroids:  {0: array([4.87, 3.44, 1.41, 0.21]), 1: array([5.53214286, 2.63571429, 3.96071429, 1.22857143]), 2: array([7.21111111, 3.16111111, 6.12222222, 2.15      ]), 3: array([6.43 , 2.94 , 4.59 , 1.435]), 4: array([5.18823529, 3.54705882, 1.53529412, 0.3       ]), 5: array([5.52857143, 4.04285714, 1.47142857, 0.28571429]), 6: array([6.26176471, 2.87352941, 5.22647059, 1.93529412]), 7: array([4.66875, 3.025  , 1.4125 , 0.19375])}\n",
      "centroids:  {0: array([4.87, 3.44, 1.41, 0.21]), 1: array([5.53214286, 2.63571429, 3.96071429, 1.22857143]), 2: array([7.24117647, 3.16470588, 6.15294118, 2.13529412]), 3: array([6.41 , 2.915, 4.585, 1.425]), 4: array([5.18823529, 3.54705882, 1.53529412, 0.3       ]), 5: array([5.52857143, 4.04285714, 1.47142857, 0.28571429]), 6: array([6.28571429, 2.89428571, 5.24      , 1.95428571]), 7: array([4.66875, 3.025  , 1.4125 , 0.19375])}\n",
      "centroids:  {0: array([4.87, 3.44, 1.41, 0.21]), 1: array([5.53214286, 2.63571429, 3.96071429, 1.22857143]), 2: array([7.3    , 3.15625, 6.1625 , 2.1125 ]), 3: array([6.41 , 2.915, 4.585, 1.425]), 4: array([5.18823529, 3.54705882, 1.53529412, 0.3       ]), 5: array([5.52857143, 4.04285714, 1.47142857, 0.28571429]), 6: array([6.28611111, 2.90555556, 5.26111111, 1.96944444]), 7: array([4.66875, 3.025  , 1.4125 , 0.19375])}\n",
      "centroids:  {0: array([4.87, 3.44, 1.41, 0.21]), 1: array([5.53214286, 2.63571429, 3.96071429, 1.22857143]), 2: array([7.34      , 3.14666667, 6.19333333, 2.11333333]), 3: array([6.38181818, 2.87727273, 4.61363636, 1.44545455]), 4: array([5.18823529, 3.54705882, 1.53529412, 0.3       ]), 5: array([5.52857143, 4.04285714, 1.47142857, 0.28571429]), 6: array([6.30857143, 2.94      , 5.29428571, 1.99142857]), 7: array([4.66875, 3.025  , 1.4125 , 0.19375])}\n",
      "centroids:  {0: array([4.87, 3.44, 1.41, 0.21]), 1: array([5.53214286, 2.63571429, 3.96071429, 1.22857143]), 2: array([7.38571429, 3.13571429, 6.22857143, 2.08571429]), 3: array([6.34230769, 2.88461538, 4.65769231, 1.48846154]), 4: array([5.18823529, 3.54705882, 1.53529412, 0.3       ]), 5: array([5.52857143, 4.04285714, 1.47142857, 0.28571429]), 6: array([6.34375 , 2.953125, 5.35625 , 2.040625]), 7: array([4.66875, 3.025  , 1.4125 , 0.19375])}\n",
      "centroids:  {0: array([4.87, 3.44, 1.41, 0.21]), 1: array([5.53214286, 2.63571429, 3.96071429, 1.22857143]), 2: array([7.42307692, 3.13076923, 6.26923077, 2.06923077]), 3: array([6.33448276, 2.8862069 , 4.69310345, 1.51034483]), 4: array([5.18823529, 3.54705882, 1.53529412, 0.3       ]), 5: array([5.52857143, 4.04285714, 1.47142857, 0.28571429]), 6: array([6.37      , 2.96666667, 5.40333333, 2.08333333]), 7: array([4.66875, 3.025  , 1.4125 , 0.19375])}\n",
      "centroids:  {0: array([4.87, 3.44, 1.41, 0.21]), 1: array([5.53214286, 2.63571429, 3.96071429, 1.22857143]), 2: array([7.475, 3.125, 6.3  , 2.05 ]), 3: array([6.30967742, 2.87096774, 4.70967742, 1.53870968]), 4: array([5.18823529, 3.54705882, 1.53529412, 0.3       ]), 5: array([5.52857143, 4.04285714, 1.47142857, 0.28571429]), 6: array([6.4137931 , 2.99655172, 5.45172414, 2.1       ]), 7: array([4.66875, 3.025  , 1.4125 , 0.19375])}\n",
      "centroids:  {0: array([4.87, 3.44, 1.41, 0.21]), 1: array([5.53214286, 2.63571429, 3.96071429, 1.22857143]), 2: array([7.475, 3.125, 6.3  , 2.05 ]), 3: array([6.25142857, 2.85428571, 4.75142857, 1.58      ]), 4: array([5.18823529, 3.54705882, 1.53529412, 0.3       ]), 5: array([5.52857143, 4.04285714, 1.47142857, 0.28571429]), 6: array([6.512, 3.04 , 5.512, 2.132]), 7: array([4.66875, 3.025  , 1.4125 , 0.19375])}\n",
      "centroids:  {0: array([4.87, 3.44, 1.41, 0.21]), 1: array([5.53214286, 2.63571429, 3.96071429, 1.22857143]), 2: array([7.475, 3.125, 6.3  , 2.05 ]), 3: array([6.24722222, 2.84722222, 4.775     , 1.575     ]), 4: array([5.18823529, 3.54705882, 1.53529412, 0.3       ]), 5: array([5.52857143, 4.04285714, 1.47142857, 0.28571429]), 6: array([6.52916667, 3.05833333, 5.50833333, 2.1625    ]), 7: array([4.66875, 3.025  , 1.4125 , 0.19375])}\n",
      "NO FURTHER UPDATE\n",
      "k= 8 sse= 36.228589402427644\n",
      "[ 77 113  54  27 121   8  39  33  72]\n",
      "centroids:  {0: array([6.7, 3. , 5. , 1.7]), 1: array([5.7, 2.5, 5. , 2. ]), 2: array([6.5, 2.8, 4.6, 1.5]), 3: array([5.2, 3.5, 1.5, 0.2]), 4: array([5.6, 2.8, 4.9, 2. ]), 5: array([4.4, 2.9, 1.4, 0.2]), 6: array([5.1, 3.4, 1.5, 0.2]), 7: array([5.5, 4.2, 1.4, 0.2]), 8: array([6.3, 2.5, 4.9, 1.5])}\n",
      "centroids:  {0: array([6.86923077, 3.08974359, 5.69230769, 2.05641026]), 1: array([5.76666667, 2.63333333, 5.06666667, 1.93333333]), 2: array([6.025     , 2.84285714, 4.22142857, 1.3       ]), 3: array([5.25454545, 3.60909091, 1.53636364, 0.26363636]), 4: array([5.49375, 2.71875, 4.35625, 1.53125]), 5: array([4.55, 2.99, 1.34, 0.2 ]), 6: array([4.93043478, 3.30434783, 1.54347826, 0.2826087 ]), 7: array([5.52857143, 4.04285714, 1.47142857, 0.28571429]), 8: array([6.1       , 2.55384615, 4.80769231, 1.50769231])}\n",
      "centroids:  {0: array([6.88857143, 3.1       , 5.78      , 2.10571429]), 1: array([5.9 , 2.84, 5.01, 1.93]), 2: array([6.0047619 , 2.87619048, 4.18571429, 1.3047619 ]), 3: array([5.21428571, 3.59285714, 1.50714286, 0.25714286]), 4: array([5.34375, 2.56875, 3.95   , 1.25   ]), 5: array([4.55454545, 3.04545455, 1.30909091, 0.2       ]), 6: array([4.91666667, 3.29444444, 1.51666667, 0.25      ]), 7: array([5.52857143, 4.04285714, 1.47142857, 0.28571429]), 8: array([6.36111111, 2.71111111, 4.83888889, 1.51111111])}\n",
      "centroids:  {0: array([6.93548387, 3.09032258, 5.86129032, 2.12580645]), 1: array([6.01428571, 2.90714286, 5.06428571, 1.94285714]), 2: array([5.86111111, 2.86666667, 4.25      , 1.31666667]), 3: array([5.21428571, 3.59285714, 1.50714286, 0.25714286]), 4: array([5.34      , 2.48666667, 3.77333333, 1.18666667]), 5: array([4.55454545, 3.04545455, 1.30909091, 0.2       ]), 6: array([4.91666667, 3.29444444, 1.51666667, 0.25      ]), 7: array([5.52857143, 4.04285714, 1.47142857, 0.28571429]), 8: array([6.42727273, 2.80909091, 4.76818182, 1.5       ])}\n",
      "centroids:  {0: array([6.99642857, 3.09285714, 5.90357143, 2.14285714]), 1: array([6.095, 2.89 , 5.135, 1.91 ]), 2: array([5.77058824, 2.87058824, 4.24705882, 1.32352941]), 3: array([5.21428571, 3.59285714, 1.50714286, 0.25714286]), 4: array([5.35714286, 2.44285714, 3.71428571, 1.16428571]), 5: array([4.55454545, 3.04545455, 1.30909091, 0.2       ]), 6: array([4.91666667, 3.29444444, 1.51666667, 0.25      ]), 7: array([5.52857143, 4.04285714, 1.47142857, 0.28571429]), 8: array([6.44285714, 2.84761905, 4.68571429, 1.45714286])}\n",
      "centroids:  {0: array([7.07916667, 3.125     , 5.975     , 2.15      ]), 1: array([6.16153846, 2.85769231, 5.17307692, 1.91923077]), 2: array([5.72222222, 2.85      , 4.26111111, 1.34444444]), 3: array([5.21428571, 3.59285714, 1.50714286, 0.25714286]), 4: array([5.39230769, 2.43846154, 3.65384615, 1.12307692]), 5: array([4.55454545, 3.04545455, 1.30909091, 0.2       ]), 6: array([4.91666667, 3.29444444, 1.51666667, 0.25      ]), 7: array([5.52857143, 4.04285714, 1.47142857, 0.28571429]), 8: array([6.47368421, 2.88947368, 4.65789474, 1.43684211])}\n",
      "centroids:  {0: array([7.12272727, 3.11363636, 6.03181818, 2.13181818]), 1: array([6.19655172, 2.88275862, 5.18275862, 1.93448276]), 2: array([5.69411765, 2.84705882, 4.25882353, 1.34705882]), 3: array([5.21428571, 3.59285714, 1.50714286, 0.25714286]), 4: array([5.39230769, 2.43846154, 3.65384615, 1.12307692]), 5: array([4.55454545, 3.04545455, 1.30909091, 0.2       ]), 6: array([4.91666667, 3.29444444, 1.51666667, 0.25      ]), 7: array([5.52857143, 4.04285714, 1.47142857, 0.28571429]), 8: array([6.46842105, 2.89473684, 4.61578947, 1.42631579])}\n",
      "centroids:  {0: array([7.12272727, 3.11363636, 6.03181818, 2.13181818]), 1: array([6.19655172, 2.88275862, 5.18275862, 1.93448276]), 2: array([5.675  , 2.8125 , 4.24375, 1.33125]), 3: array([5.21428571, 3.59285714, 1.50714286, 0.25714286]), 4: array([5.39230769, 2.43846154, 3.65384615, 1.12307692]), 5: array([4.55454545, 3.04545455, 1.30909091, 0.2       ]), 6: array([4.91666667, 3.29444444, 1.51666667, 0.25      ]), 7: array([5.52857143, 4.04285714, 1.47142857, 0.28571429]), 8: array([6.445, 2.92 , 4.61 , 1.435])}\n",
      "NO FURTHER UPDATE\n",
      "k= 9 sse= 35.63193217223391\n",
      "[119 104  75  51  88  47  74  81 140  87]\n",
      "centroids:  {0: array([6. , 2.2, 5. , 1.5]), 1: array([6.5, 3. , 5.8, 2.2]), 2: array([6.6, 3. , 4.4, 1.4]), 3: array([6.4, 3.2, 4.5, 1.5]), 4: array([5.6, 3. , 4.1, 1.3]), 5: array([4.6, 3.2, 1.4, 0.2]), 6: array([6.4, 2.9, 4.3, 1.3]), 7: array([5.5, 2.4, 3.7, 1. ]), 8: array([6.7, 3.1, 5.6, 2.4]), 9: array([6.3, 2.3, 4.4, 1.3])}\n",
      "centroids:  {0: array([6.01818182, 2.60909091, 5.06363636, 1.72727273]), 1: array([6.81176471, 2.89411765, 5.89411765, 2.        ]), 2: array([6.725 , 3.    , 4.6375, 1.425 ]), 3: array([6.15454545, 3.07272727, 4.76363636, 1.65454545]), 4: array([5.59375, 2.80625, 4.18125, 1.325  ]), 5: array([5.006, 3.428, 1.462, 0.246]), 6: array([6.16, 2.86, 4.36, 1.32]), 7: array([5.33, 2.39, 3.6 , 1.09]), 8: array([6.87368421, 3.24736842, 5.66315789, 2.23684211]), 9: array([6.16666667, 2.23333333, 4.3       , 1.26666667])}\n",
      "centroids:  {0: array([6.02142857, 2.65714286, 5.08571429, 1.79285714]), 1: array([7.00625, 2.9    , 5.9875 , 1.975  ]), 2: array([6.72222222, 3.        , 4.67777778, 1.45555556]), 3: array([6.2 , 3.1 , 4.8 , 1.73]), 4: array([5.56875, 2.775  , 4.16875, 1.3125 ]), 5: array([5.006, 3.428, 1.462, 0.246]), 6: array([6.11428571, 2.9       , 4.37142857, 1.35714286]), 7: array([5.31111111, 2.37777778, 3.55555556, 1.06666667]), 8: array([6.81875, 3.3    , 5.70625, 2.2875 ]), 9: array([6.16666667, 2.23333333, 4.3       , 1.26666667])}\n",
      "centroids:  {0: array([6.04      , 2.67333333, 5.12      , 1.79333333]), 1: array([7.43333333, 3.03333333, 6.275     , 1.99166667]), 2: array([6.69, 3.02, 4.66, 1.46]), 3: array([6.1875, 3.1125, 4.85  , 1.8   ]), 4: array([5.56666667, 2.73333333, 4.14444444, 1.3       ]), 5: array([5.006, 3.428, 1.462, 0.246]), 6: array([6.1125, 2.9   , 4.4125, 1.3625]), 7: array([5.24285714, 2.37142857, 3.44285714, 1.02857143]), 8: array([6.61578947, 3.15263158, 5.58947368, 2.23684211]), 9: array([6.16666667, 2.23333333, 4.3       , 1.26666667])}\n",
      "centroids:  {0: array([6.04      , 2.67333333, 5.12      , 1.79333333]), 1: array([7.475, 3.125, 6.3  , 2.05 ]), 2: array([6.69, 3.02, 4.66, 1.46]), 3: array([6.14285714, 3.12857143, 4.8       , 1.77142857]), 4: array([5.56666667, 2.73333333, 4.14444444, 1.3       ]), 5: array([5.006, 3.428, 1.462, 0.246]), 6: array([6.1125, 2.9   , 4.4125, 1.3625]), 7: array([5.24285714, 2.37142857, 3.44285714, 1.02857143]), 8: array([6.585, 3.09 , 5.555, 2.19 ]), 9: array([6.16666667, 2.23333333, 4.3       , 1.26666667])}\n",
      "centroids:  {0: array([6.02142857, 2.65714286, 5.08571429, 1.79285714]), 1: array([7.475, 3.125, 6.3  , 2.05 ]), 2: array([6.69, 3.02, 4.66, 1.46]), 3: array([6.08333333, 3.11666667, 4.75      , 1.73333333]), 4: array([5.56666667, 2.73333333, 4.14444444, 1.3       ]), 5: array([5.006, 3.428, 1.462, 0.246]), 6: array([6.1125, 2.9   , 4.4125, 1.3625]), 7: array([5.24285714, 2.37142857, 3.44285714, 1.02857143]), 8: array([6.56818182, 3.08636364, 5.53636364, 2.16363636]), 9: array([6.16666667, 2.23333333, 4.3       , 1.26666667])}\n",
      "NO FURTHER UPDATE\n",
      "k= 10 sse= 33.78729184704186\n",
      "[  4  57  53 119  23  74 126  47 111  16  73]\n",
      "centroids:  {0: array([5. , 3.6, 1.4, 0.2]), 1: array([4.9, 2.4, 3.3, 1. ]), 2: array([5.5, 2.3, 4. , 1.3]), 3: array([6. , 2.2, 5. , 1.5]), 4: array([5.1, 3.3, 1.7, 0.5]), 5: array([6.4, 2.9, 4.3, 1.3]), 6: array([6.2, 2.8, 4.8, 1.8]), 7: array([4.6, 3.2, 1.4, 0.2]), 8: array([6.4, 2.7, 5.3, 1.9]), 9: array([5.4, 3.9, 1.3, 0.4]), 10: array([6.1, 2.8, 4.7, 1.2])}\n"
     ]
    },
    {
     "name": "stdout",
     "output_type": "stream",
     "text": [
      "centroids:  {0: array([5.08      , 3.52666667, 1.43333333, 0.22666667]), 1: array([5.   , 2.3  , 3.275, 1.025]), 2: array([5.57647059, 2.59411765, 3.98235294, 1.21764706]), 3: array([6.16666667, 2.3       , 4.8       , 1.5       ]), 4: array([5.1   , 3.4   , 1.6875, 0.3625]), 5: array([6.47692308, 2.92307692, 4.45384615, 1.39230769]), 6: array([6.0375 , 2.90625, 4.925  , 1.8    ]), 7: array([4.65      , 3.1       , 1.38888889, 0.2       ]), 8: array([6.83421053, 3.05789474, 5.74473684, 2.08157895]), 9: array([5.51111111, 3.94444444, 1.45555556, 0.26666667]), 10: array([5.82222222, 2.92222222, 4.48888889, 1.36666667])}\n",
      "centroids:  {0: array([5.09375, 3.5375 , 1.45   , 0.225  ]), 1: array([5.   , 2.3  , 3.275, 1.025]), 2: array([5.60555556, 2.60555556, 3.98333333, 1.22222222]), 3: array([6.2 , 2.3 , 4.7 , 1.45]), 4: array([5.11428571, 3.45714286, 1.7       , 0.38571429]), 5: array([6.6       , 3.02307692, 4.60769231, 1.44615385]), 6: array([6.06666667, 2.81666667, 5.05      , 1.85      ]), 7: array([4.67894737, 3.08421053, 1.37894737, 0.2       ]), 8: array([6.9125  , 3.1     , 5.846875, 2.13125 ]), 9: array([5.5125, 4.    , 1.475 , 0.275 ]), 10: array([5.84545455, 2.97272727, 4.46363636, 1.4       ])}\n",
      "centroids:  {0: array([5.09375, 3.5375 , 1.45   , 0.225  ]), 1: array([5.   , 2.3  , 3.275, 1.025]), 2: array([5.60555556, 2.60555556, 3.98333333, 1.22222222]), 3: array([6.2 , 2.3 , 4.7 , 1.45]), 4: array([5.11428571, 3.45714286, 1.7       , 0.38571429]), 5: array([6.63333333, 3.03333333, 4.63333333, 1.45833333]), 6: array([6.11363636, 2.87727273, 5.12272727, 1.88636364]), 7: array([4.67894737, 3.08421053, 1.37894737, 0.2       ]), 8: array([6.99642857, 3.09285714, 5.90357143, 2.14285714]), 9: array([5.5125, 4.    , 1.475 , 0.275 ]), 10: array([5.875     , 2.96666667, 4.45      , 1.39166667])}\n",
      "centroids:  {0: array([5.09375, 3.5375 , 1.45   , 0.225  ]), 1: array([5.   , 2.3  , 3.275, 1.025]), 2: array([5.60555556, 2.60555556, 3.98333333, 1.22222222]), 3: array([6.2 , 2.3 , 4.7 , 1.45]), 4: array([5.11428571, 3.45714286, 1.7       , 0.38571429]), 5: array([6.63333333, 3.03333333, 4.63333333, 1.45833333]), 6: array([6.17307692, 2.88076923, 5.17692308, 1.91923077]), 7: array([4.67894737, 3.08421053, 1.37894737, 0.2       ]), 8: array([7.07916667, 3.125     , 5.975     , 2.15      ]), 9: array([5.5125, 4.    , 1.475 , 0.275 ]), 10: array([5.875     , 2.96666667, 4.45      , 1.39166667])}\n",
      "centroids:  {0: array([5.09375, 3.5375 , 1.45   , 0.225  ]), 1: array([5.   , 2.3  , 3.275, 1.025]), 2: array([5.60555556, 2.60555556, 3.98333333, 1.22222222]), 3: array([6.2 , 2.3 , 4.7 , 1.45]), 4: array([5.11428571, 3.45714286, 1.7       , 0.38571429]), 5: array([6.63333333, 3.03333333, 4.63333333, 1.45833333]), 6: array([6.20357143, 2.90714286, 5.18928571, 1.95      ]), 7: array([4.67894737, 3.08421053, 1.37894737, 0.2       ]), 8: array([7.12272727, 3.11363636, 6.03181818, 2.13181818]), 9: array([5.5125, 4.    , 1.475 , 0.275 ]), 10: array([5.875     , 2.96666667, 4.45      , 1.39166667])}\n",
      "centroids:  {0: array([5.09375, 3.5375 , 1.45   , 0.225  ]), 1: array([5.   , 2.3  , 3.275, 1.025]), 2: array([5.60555556, 2.60555556, 3.98333333, 1.22222222]), 3: array([6.2 , 2.3 , 4.7 , 1.45]), 4: array([5.11428571, 3.45714286, 1.7       , 0.38571429]), 5: array([6.63333333, 3.03333333, 4.63333333, 1.45833333]), 6: array([6.21481481, 2.8962963 , 5.2037037 , 1.95555556]), 7: array([4.67894737, 3.08421053, 1.37894737, 0.2       ]), 8: array([7.12272727, 3.11363636, 6.03181818, 2.13181818]), 9: array([5.5125, 4.    , 1.475 , 0.275 ]), 10: array([5.87692308, 2.98461538, 4.47692308, 1.42307692])}\n",
      "NO FURTHER UPDATE\n",
      "k= 11 sse= 31.733652279737807\n",
      "[ 51  49   1  11  48  24  20 108 120 131  67 124]\n",
      "centroids:  {0: array([6.4, 3.2, 4.5, 1.5]), 1: array([5. , 3.3, 1.4, 0.2]), 2: array([4.9, 3. , 1.4, 0.2]), 3: array([4.8, 3.4, 1.6, 0.2]), 4: array([5.3, 3.7, 1.5, 0.2]), 5: array([4.8, 3.4, 1.9, 0.2]), 6: array([5.4, 3.4, 1.7, 0.2]), 7: array([6.7, 2.5, 5.8, 1.8]), 8: array([6.9, 3.2, 5.7, 2.3]), 9: array([7.9, 3.8, 6.4, 2. ]), 10: array([5.8, 2.7, 4.1, 1. ]), 11: array([6.7, 3.3, 5.7, 2.1])}\n",
      "centroids:  {0: array([6.25806452, 2.92580645, 4.75483871, 1.58387097]), 1: array([5.01818182, 3.42727273, 1.38181818, 0.24545455]), 2: array([4.69230769, 2.98461538, 1.40769231, 0.19230769]), 3: array([4.75  , 3.3625, 1.4875, 0.275 ]), 4: array([5.36666667, 3.85333333, 1.50666667, 0.27333333]), 5: array([4.8, 3.4, 1.9, 0.2]), 6: array([5.4, 3.4, 1.6, 0.3]), 7: array([6.61, 2.69, 5.61, 1.77]), 8: array([6.96666667, 3.15      , 5.68333333, 2.25      ]), 9: array([7.72, 3.2 , 6.66, 2.12]), 10: array([5.58      , 2.61      , 3.99333333, 1.24      ]), 11: array([6.375     , 3.125     , 5.48333333, 2.16666667])}\n",
      "centroids:  {0: array([6.25142857, 2.85428571, 4.75142857, 1.58      ]), 1: array([5.04615385, 3.44615385, 1.43076923, 0.25384615]), 2: array([4.66666667, 3.01333333, 1.4       , 0.19333333]), 3: array([4.675, 3.4  , 1.4  , 0.225]), 4: array([5.36923077, 3.90769231, 1.52307692, 0.28461538]), 5: array([4.8, 3.4, 1.9, 0.2]), 6: array([5.35 , 3.4  , 1.55 , 0.325]), 7: array([6.53333333, 2.78333333, 5.6       , 1.71666667]), 8: array([6.94166667, 3.15833333, 5.725     , 2.2       ]), 9: array([7.65714286, 3.12857143, 6.52857143, 2.1       ]), 10: array([5.53214286, 2.63571429, 3.96071429, 1.22857143]), 11: array([6.36666667, 3.08333333, 5.45      , 2.20833333])}\n",
      "centroids:  {0: array([6.25142857, 2.85428571, 4.75142857, 1.58      ]), 1: array([5.05      , 3.46428571, 1.43571429, 0.26428571]), 2: array([4.66875, 3.025  , 1.4125 , 0.19375]), 3: array([4.66666667, 3.46666667, 1.33333333, 0.23333333]), 4: array([5.39166667, 3.925     , 1.525     , 0.275     ]), 5: array([4.8, 3.4, 1.9, 0.2]), 6: array([5.35 , 3.4  , 1.55 , 0.325]), 7: array([6.4 , 2.8 , 5.55, 1.75]), 8: array([6.925, 3.175, 5.7  , 2.175]), 9: array([7.625 , 3.0875, 6.475 , 2.075 ]), 10: array([5.53214286, 2.63571429, 3.96071429, 1.22857143]), 11: array([6.36363636, 3.08181818, 5.44545455, 2.24545455])}\n",
      "centroids:  {0: array([6.25142857, 2.85428571, 4.75142857, 1.58      ]), 1: array([5.05      , 3.46428571, 1.43571429, 0.26428571]), 2: array([4.66875, 3.025  , 1.4125 , 0.19375]), 3: array([4.6 , 3.5 , 1.2 , 0.25]), 4: array([5.39166667, 3.925     , 1.525     , 0.275     ]), 5: array([4.8 , 3.4 , 1.75, 0.2 ]), 6: array([5.35 , 3.4  , 1.55 , 0.325]), 7: array([6.4       , 2.8       , 5.55714286, 1.8       ]), 8: array([6.925, 3.175, 5.7  , 2.175]), 9: array([7.625 , 3.0875, 6.475 , 2.075 ]), 10: array([5.53214286, 2.63571429, 3.96071429, 1.22857143]), 11: array([6.36, 3.11, 5.43, 2.26])}\n",
      "NO FURTHER UPDATE\n",
      "k= 12 sse= 32.8402380952381\n"
     ]
    }
   ],
   "source": [
    "nitr=200\n",
    "sses={}\n",
    "for k in range(1,13):                                                       #trying for different k value.\n",
    "    \n",
    "    centroids=get_random_centroids(k)\n",
    "    old_centroids={}\n",
    "    \n",
    "    for i in range(nitr):\n",
    "        clusters={}\n",
    "        for ik,iv in centroids.items():\n",
    "            clusters[ik]=[]\n",
    "\n",
    "        print('centroids: ',centroids)\n",
    "        \n",
    "        for xx in x:\n",
    "            dists=[e_dist(xx,v) for k,v in centroids.items() ] #k distance from k centroid.\n",
    "            closest=dists.index( min(dists) )\n",
    "            clusters[closest].append(xx)\n",
    "\n",
    "            \n",
    "        for ik in range(k):\n",
    "            old_centroids[ik]=centroids[ik].copy()\n",
    "            \n",
    "            \n",
    "        #update centroids.\n",
    "        nc={}\n",
    "        for ik in range(k):\n",
    "            avg_c=np.array(clusters[ik]).mean(axis=0)\n",
    "            nc[ik]=avg_c  #average.\n",
    "            centroids[ik]=avg_c\n",
    "            \n",
    "            \n",
    "\n",
    "        #checking centroids update.\n",
    "        nupdate=0\n",
    "        for ik in range(k):\n",
    "            if e_dist( centroids[ik], old_centroids[ik] ) > 0:\n",
    "                nupdate+=1\n",
    "        if nupdate==0:\n",
    "            print('NO FURTHER UPDATE')\n",
    "            break\n",
    "            \n",
    "            \n",
    "    sse=0               # Sum of Squared Error\n",
    "    for cluster,centroid in zip(clusters.values() ,centroids.values()):\n",
    "        for xx in cluster:\n",
    "            d=e_dist(xx, centroid)\n",
    "            sse+=d*d\n",
    "    print('k=',k, 'sse=',sse)\n",
    "    sses[k]=sse\n",
    "    \n",
    "    "
   ]
  },
  {
   "cell_type": "code",
   "execution_count": 56,
   "metadata": {},
   "outputs": [
    {
     "data": {
      "text/plain": [
       "{1: 681.3706000000001,\n",
       " 2: 152.34795176035794,\n",
       " 3: 78.85566582597723,\n",
       " 4: 57.22847321428573,\n",
       " 5: 49.862249999999996,\n",
       " 6: 39.306107125307115,\n",
       " 7: 38.705236441494044,\n",
       " 8: 36.228589402427644,\n",
       " 9: 35.63193217223391,\n",
       " 10: 33.78729184704186,\n",
       " 11: 31.733652279737807,\n",
       " 12: 32.8402380952381}"
      ]
     },
     "execution_count": 56,
     "metadata": {},
     "output_type": "execute_result"
    }
   ],
   "source": [
    "sses"
   ]
  },
  {
   "cell_type": "code",
   "execution_count": 57,
   "metadata": {},
   "outputs": [
    {
     "name": "stdout",
     "output_type": "stream",
     "text": [
      "[1, 2, 3, 4, 5, 6, 7, 8, 9, 10, 11, 12]\n"
     ]
    }
   ],
   "source": [
    "ks=[i+1 for i in range(len(sses.values()))]\n",
    "print(ks)"
   ]
  },
  {
   "cell_type": "code",
   "execution_count": 58,
   "metadata": {},
   "outputs": [
    {
     "data": {
      "image/png": "[encoded data removed]",
      "text/plain": [
       "<Figure size 432x288 with 1 Axes>"
      ]
     },
     "metadata": {
      "needs_background": "light"
     },
     "output_type": "display_data"
    }
   ],
   "source": [
    "plt.plot(ks, sses.values())\n",
    "plt.title('k vs sse')\n",
    "plt.show()"
   ]
  },
  {
   "cell_type": "code",
   "execution_count": null,
   "metadata": {},
   "outputs": [],
   "source": []
  },
  {
   "cell_type": "code",
   "execution_count": null,
   "metadata": {},
   "outputs": [],
   "source": []
  }
 ],
 "metadata": {
  "kernelspec": {
   "display_name": "Python 3",
   "language": "python",
   "name": "python3"
  },
  "language_info": {
   "codemirror_mode": {
    "name": "ipython",
    "version": 3
   },
   "file_extension": ".py",
   "mimetype": "text/x-python",
   "name": "python",
   "nbconvert_exporter": "python",
   "pygments_lexer": "ipython3",
   "version": "3.7.3"
  }
 },
 "nbformat": 4,
 "nbformat_minor": 2
}
